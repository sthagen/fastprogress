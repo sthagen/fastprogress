{
 "cells": [
  {
   "cell_type": "code",
   "execution_count": 1,
   "metadata": {},
   "outputs": [],
   "source": [
    "#default_exp core"
   ]
  },
  {
   "cell_type": "markdown",
   "metadata": {},
   "source": [
    "# Core\n",
    "\n",
    "> Utility functions for fastprogress"
   ]
  },
  {
   "cell_type": "markdown",
   "metadata": {
    "heading_collapsed": true
   },
   "source": [
    "## Display"
   ]
  },
  {
   "cell_type": "code",
   "execution_count": 2,
   "metadata": {
    "hidden": true
   },
   "outputs": [],
   "source": [
    "# export\n",
    "def format_time(t):\n",
    "    \"Format `t` (in seconds) to (h):mm:ss\"\n",
    "    t = int(t)\n",
    "    h,m,s = t//3600, (t//60)%60, t%60\n",
    "    if h!= 0: return f'{h}:{m:02d}:{s:02d}'\n",
    "    else:     return f'{m:02d}:{s:02d}'"
   ]
  },
  {
   "cell_type": "code",
   "execution_count": 3,
   "metadata": {
    "hidden": true
   },
   "outputs": [],
   "source": [
    "assert format_time(12) == '00:12'\n",
    "assert format_time(512) == '08:32'\n",
    "assert format_time(3712) == '1:01:52'"
   ]
  },
  {
   "cell_type": "code",
   "execution_count": 4,
   "metadata": {
    "hidden": true
   },
   "outputs": [],
   "source": [
    "# export\n",
    "\n",
    "# the styles are static so we'll keep the browser from recalculating\n",
    "# them every time we update the progress bar widget\n",
    "html_progress_bar_styles = \"\"\"\n",
    "<style>\n",
    "    /* Turns off some styling */\n",
    "    progress {\n",
    "        /* gets rid of default border in Firefox and Opera. */\n",
    "        border: none;\n",
    "        /* Needs to be in here for Safari polyfill so background images work as expected. */\n",
    "        background-size: auto;\n",
    "    }\n",
    "    .progress-bar-interrupted, .progress-bar-interrupted::-webkit-progress-bar {\n",
    "        background: #F44336;\n",
    "    }\n",
    "</style>\n",
    "\"\"\"\n",
    "\n",
    "def html_progress_bar(value, total, label, interrupted=False):\n",
    "    \"Html code for a progress bar `value`/`total` with `label`\"\n",
    "    bar_style = 'progress-bar-interrupted' if interrupted else ''\n",
    "    return f\"\"\"\n",
    "    <div>\n",
    "      <progress value='{value}' class='{bar_style}' max='{total}' style='width:300px; height:20px; vertical-align: middle;'></progress>\n",
    "      {label}\n",
    "    </div>\n",
    "    \"\"\""
   ]
  },
  {
   "cell_type": "code",
   "execution_count": 5,
   "metadata": {
    "hidden": true
   },
   "outputs": [],
   "source": [
    "# export\n",
    "def text2html_table(items):\n",
    "    \"Put the texts in `items` in an HTML table.\"\n",
    "    html_code = f\"\"\"<table border=\"1\" class=\"dataframe\">\\n\"\"\"\n",
    "    html_code += f\"\"\"  <thead>\\n    <tr style=\"text-align: left;\">\\n\"\"\"\n",
    "    for i in items[0]: html_code += f\"      <th>{i}</th>\\n\"\n",
    "    html_code += f\"    </tr>\\n  </thead>\\n  <tbody>\\n\"\n",
    "    for line in items[1:]:\n",
    "        html_code += \"    <tr>\\n\"\n",
    "        for i in line: html_code += f\"      <td>{i}</td>\\n\"\n",
    "        html_code += \"    </tr>\\n\"\n",
    "    html_code += \"  </tbody>\\n</table><p>\"\n",
    "    return html_code"
   ]
  },
  {
   "cell_type": "markdown",
   "metadata": {},
   "source": [
    "## Detect if in or out notebook"
   ]
  },
  {
   "cell_type": "code",
   "execution_count": 6,
   "metadata": {},
   "outputs": [],
   "source": [
    "# export\n",
    "def in_colab():\n",
    "    \"Check if the code is running in Google Colaboratory\"\n",
    "    try:\n",
    "        from google import colab\n",
    "        return True\n",
    "    except: return False\n",
    "\n",
    "IN_COLAB = in_colab()"
   ]
  },
  {
   "cell_type": "code",
   "execution_count": 7,
   "metadata": {},
   "outputs": [],
   "source": [
    "# export\n",
    "def in_notebook():\n",
    "    \"Check if the code is running in a jupyter notebook\"\n",
    "    if in_colab(): return True\n",
    "    try:\n",
    "        shell = get_ipython().__class__.__name__\n",
    "        if shell == 'ZMQInteractiveShell': # Jupyter notebook, Spyder or qtconsole\n",
    "            import IPython\n",
    "            #IPython version lower then 6.0.0 don't work with output you update\n",
    "            return IPython.__version__ >= '6.0.0'\n",
    "        elif shell == 'TerminalInteractiveShell': return False  # Terminal running IPython\n",
    "        else: return False  # Other type (?)\n",
    "    except NameError: return False      # Probably standard Python interpreter\n",
    "\n",
    "IN_NOTEBOOK = in_notebook()"
   ]
  },
  {
   "cell_type": "code",
   "execution_count": 8,
   "metadata": {},
   "outputs": [],
   "source": [
    "assert IN_NOTEBOOK\n",
    "assert not IN_COLAB"
   ]
  },
  {
   "cell_type": "markdown",
   "metadata": {},
   "source": [
    "## Export -"
   ]
  },
  {
   "cell_type": "code",
   "execution_count": 1,
   "metadata": {},
   "outputs": [
    {
     "name": "stdout",
     "output_type": "stream",
     "text": [
      "Converted 00_core.ipynb.\n",
      "Converted 01_fastprogress.ipynb.\n"
     ]
    }
   ],
   "source": [
    "from nbdev.export import notebook2script\n",
    "notebook2script()"
   ]
  }
 ],
 "metadata": {
  "kernelspec": {
   "display_name": "Python 3",
   "language": "python",
   "name": "python3"
  },
  "language_info": {
   "codemirror_mode": {
    "name": "ipython",
    "version": 3
   },
   "file_extension": ".py",
   "mimetype": "text/x-python",
   "name": "python",
   "nbconvert_exporter": "python",
   "pygments_lexer": "ipython3",
   "version": "3.7.7"
  },
  "toc": {
   "base_numbering": 1,
   "nav_menu": {},
   "number_sections": false,
   "sideBar": true,
   "skip_h1_title": true,
   "title_cell": "Table of Contents",
   "title_sidebar": "Contents",
   "toc_cell": false,
   "toc_position": {},
   "toc_section_display": true,
   "toc_window_display": false
  }
 },
 "nbformat": 4,
 "nbformat_minor": 2
}
