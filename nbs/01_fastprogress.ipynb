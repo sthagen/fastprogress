{
 "cells": [
  {
   "cell_type": "code",
   "execution_count": null,
   "metadata": {},
   "outputs": [],
   "source": [
    "# export\n",
    "import time,os,shutil\n",
    "from sys import stdout\n",
    "from warnings import warn\n",
    "from fastprogress.core import *"
   ]
  },
  {
   "cell_type": "code",
   "execution_count": null,
   "metadata": {},
   "outputs": [],
   "source": [
    "#default_exp fastprogress"
   ]
  },
  {
   "cell_type": "markdown",
   "metadata": {},
   "source": [
    "## Base class"
   ]
  },
  {
   "cell_type": "code",
   "execution_count": null,
   "metadata": {},
   "outputs": [],
   "source": [
    "#export\n",
    "class ProgressBar():\n",
    "    update_every,first_its = 0.2,5\n",
    "\n",
    "    def __init__(self, gen, total=None, display=True, leave=True, parent=None, master=None, comment=''):\n",
    "        self.gen,self.parent,self.master,self.comment = gen,parent,master,comment\n",
    "        self.total = len(gen) if total is None else total\n",
    "        self.last_v = 0\n",
    "        if parent is None: self.leave,self.display = leave,display\n",
    "        else:\n",
    "            self.leave,self.display=False,False\n",
    "            parent.add_child(self)\n",
    "        self.last_v = None\n",
    "\n",
    "    def on_iter_begin(self):\n",
    "        if self.master is not None: self.master.on_iter_begin()\n",
    "            \n",
    "    def on_interrupt(self):\n",
    "        if self.master is not None: self.master.on_interrupt()\n",
    "            \n",
    "    def on_iter_end(self):\n",
    "        if self.master is not None: self.master.on_iter_end()\n",
    "            \n",
    "    def on_update(self, val, text): pass\n",
    "\n",
    "    def __iter__(self):\n",
    "        if self.total != 0: self.update(0)\n",
    "        try:\n",
    "            for i,o in enumerate(self.gen):\n",
    "                if i >= self.total: break\n",
    "                yield o\n",
    "                self.update(i+1)\n",
    "        except Exception as e:\n",
    "            self.on_interrupt()\n",
    "            raise e\n",
    "\n",
    "    def update(self, val):\n",
    "        if self.last_v is None: \n",
    "            self.on_iter_begin()\n",
    "            self.last_v = 0\n",
    "        if val == 0:\n",
    "            self.start_t = self.last_t = time.time()\n",
    "            self.pred_t,self.last_v,self.wait_for = 0,0,1\n",
    "            self.update_bar(0)\n",
    "        elif val <= self.first_its or val >= self.last_v + self.wait_for or val >= self.total:\n",
    "            cur_t = time.time()\n",
    "            avg_t = (cur_t - self.start_t) / val\n",
    "            self.wait_for = max(int(self.update_every / (avg_t+1e-8)),1)\n",
    "            self.pred_t = avg_t * self.total\n",
    "            self.last_v,self.last_t = val,cur_t\n",
    "            self.update_bar(val)\n",
    "            if val >= self.total: \n",
    "                self.on_iter_end()\n",
    "                self.last_v = None\n",
    "\n",
    "    def update_bar(self, val):\n",
    "        elapsed_t = self.last_t - self.start_t\n",
    "        remaining_t = format_time(self.pred_t - elapsed_t)\n",
    "        elapsed_t = format_time(elapsed_t)\n",
    "        end = '' if len(self.comment) == 0 else f' {self.comment}'\n",
    "        if self.total == 0:\n",
    "            warn(\"Your generator is empty.\")\n",
    "            self.on_update(0, '100% [0/0]')\n",
    "        else: self.on_update(val, f'{100 * val/self.total:.2f}% [{val}/{self.total} {elapsed_t}<{remaining_t}{end}]')"
   ]
  },
  {
   "cell_type": "code",
   "execution_count": null,
   "metadata": {},
   "outputs": [],
   "source": [
    "class VerboseProgressBar(ProgressBar):\n",
    "    def on_iter_begin(self): super().on_iter_begin(); print(\"on_iter_begin\")\n",
    "    def on_interrupt(self):  print(\"on_interrupt\")\n",
    "    def on_iter_end(self):   print(\"on_iter_end\"); super().on_iter_end()\n",
    "    def on_update(self, val, text): print(f\"on_update {val}\")"
   ]
  },
  {
   "cell_type": "code",
   "execution_count": null,
   "metadata": {},
   "outputs": [],
   "source": [
    "from contextlib import redirect_stdout\n",
    "import io"
   ]
  },
  {
   "cell_type": "code",
   "execution_count": null,
   "metadata": {},
   "outputs": [],
   "source": [
    "tst_pb = VerboseProgressBar(range(6))\n",
    "s = io.StringIO()\n",
    "with redirect_stdout(s): \n",
    "    for i in tst_pb: time.sleep(0.1)\n",
    "\n",
    "assert s.getvalue() == '\\n'.join(['on_iter_begin'] + [f'on_update {i}' for i in range(7)] + ['on_iter_end']) + '\\n'"
   ]
  },
  {
   "cell_type": "code",
   "execution_count": null,
   "metadata": {},
   "outputs": [],
   "source": [
    "tst_pb = VerboseProgressBar(range(6))\n",
    "s = io.StringIO()\n",
    "with redirect_stdout(s): \n",
    "    for i in range(7): \n",
    "        tst_pb.update(i)\n",
    "        time.sleep(0.1)\n",
    "\n",
    "assert s.getvalue() == '\\n'.join(['on_iter_begin'] + [f'on_update {i}' for i in range(7)] + ['on_iter_end']) + '\\n'"
   ]
  },
  {
   "cell_type": "code",
   "execution_count": null,
   "metadata": {},
   "outputs": [],
   "source": [
    "#export\n",
    "class MasterBar(ProgressBar):\n",
    "    def __init__(self, gen, cls, total=None): \n",
    "        self.main_bar = cls(gen, total=total, display=False, master=self)\n",
    "      \n",
    "    def on_iter_begin(self): pass\n",
    "    def on_interrupt(self):  pass\n",
    "    def on_iter_end(self):   pass\n",
    "    def add_child(self, child): pass\n",
    "    def write(self, line):      pass\n",
    "    def update_graph(self, graphs, x_bounds, y_bounds): pass\n",
    "    \n",
    "    def __iter__(self):\n",
    "        for o in self.main_bar:\n",
    "            yield o\n",
    "            \n",
    "    def update(self, val): self.main_bar.update(val)"
   ]
  },
  {
   "cell_type": "code",
   "execution_count": null,
   "metadata": {},
   "outputs": [],
   "source": [
    "class VerboseMasterBar(MasterBar):\n",
    "    def __init__(self, gen, total=None): super().__init__(gen, VerboseProgressBar, total=total)\n",
    "    def on_iter_begin(self): print(\"master_on_iter_begin\")\n",
    "    def on_interrupt(self):  print(\"master_on_interrupt\")\n",
    "    def on_iter_end(self):   print(\"master_on_iter_end\")\n",
    "    #def on_update(self, val, text): print(f\"master_on_update {val}\")"
   ]
  },
  {
   "cell_type": "code",
   "execution_count": null,
   "metadata": {},
   "outputs": [
    {
     "name": "stdout",
     "output_type": "stream",
     "text": [
      "master_on_iter_begin\n",
      "on_iter_begin\n",
      "on_update 0\n",
      "on_update 1\n",
      "on_update 2\n",
      "on_update 3\n",
      "on_update 4\n",
      "on_update 5\n",
      "on_update 6\n",
      "on_iter_end\n",
      "master_on_iter_end\n"
     ]
    }
   ],
   "source": [
    "tst_mb = VerboseMasterBar(range(6))\n",
    "for i in tst_mb: time.sleep(0.1)"
   ]
  },
  {
   "cell_type": "code",
   "execution_count": null,
   "metadata": {},
   "outputs": [],
   "source": [
    "#hide\n",
    "#Test an empty progress bar doesn't crash\n",
    "for i in ProgressBar([]): pass"
   ]
  },
  {
   "cell_type": "markdown",
   "metadata": {},
   "source": [
    "## Notebook progress bars"
   ]
  },
  {
   "cell_type": "code",
   "execution_count": null,
   "metadata": {},
   "outputs": [],
   "source": [
    "#export\n",
    "if IN_NOTEBOOK:\n",
    "    try:\n",
    "        from IPython.display import clear_output, display, HTML\n",
    "        import matplotlib.pyplot as plt\n",
    "    except:\n",
    "        warn(\"Couldn't import ipywidgets properly, progress bar will use console behavior\")\n",
    "        IN_NOTEBOOK = False"
   ]
  },
  {
   "cell_type": "code",
   "execution_count": null,
   "metadata": {},
   "outputs": [],
   "source": [
    "#export\n",
    "class NBProgressBar(ProgressBar):\n",
    "    def on_iter_begin(self):\n",
    "        super().on_iter_begin()\n",
    "        self.progress = html_progress_bar(0, self.total, \"\")\n",
    "        if self.display:\n",
    "            display(HTML(html_progress_bar_styles))\n",
    "            self.out = display(HTML(self.progress), display_id=True)\n",
    "        self.is_active=True\n",
    "\n",
    "    def on_interrupt(self):\n",
    "        self.on_update(0, 'Interrupted', interrupted=True)\n",
    "        super().on_interrupt()\n",
    "        self.on_iter_end()\n",
    "\n",
    "    def on_iter_end(self):\n",
    "        if not self.leave and self.display: self.out.update(HTML(''))\n",
    "        self.is_active=False\n",
    "        super().on_iter_end()\n",
    "        \n",
    "    def on_update(self, val, text, interrupted=False):\n",
    "        self.progress = html_progress_bar(val, self.total, text, interrupted)\n",
    "        if self.display: self.out.update(HTML(self.progress))\n",
    "        elif self.parent is not None: self.parent.show()"
   ]
  },
  {
   "cell_type": "code",
   "execution_count": null,
   "metadata": {},
   "outputs": [
    {
     "data": {
      "text/html": [
       "\n",
       "<style>\n",
       "    /* Turns off some styling */\n",
       "    progress {\n",
       "        /* gets rid of default border in Firefox and Opera. */\n",
       "        border: none;\n",
       "        /* Needs to be in here for Safari polyfill so background images work as expected. */\n",
       "        background-size: auto;\n",
       "    }\n",
       "    .progress-bar-interrupted, .progress-bar-interrupted::-webkit-progress-bar {\n",
       "        background: #F44336;\n",
       "    }\n",
       "</style>\n"
      ],
      "text/plain": [
       "<IPython.core.display.HTML object>"
      ]
     },
     "metadata": {},
     "output_type": "display_data"
    },
    {
     "data": {
      "text/html": [
       "\n",
       "    <div>\n",
       "      <progress value='100' class='' max='100' style='width:300px; height:20px; vertical-align: middle;'></progress>\n",
       "      100.00% [100/100 00:05<00:00]\n",
       "    </div>\n",
       "    "
      ],
      "text/plain": [
       "<IPython.core.display.HTML object>"
      ]
     },
     "metadata": {},
     "output_type": "display_data"
    }
   ],
   "source": [
    "tst = NBProgressBar(range(100))\n",
    "for i in tst: time.sleep(0.05)"
   ]
  },
  {
   "cell_type": "code",
   "execution_count": null,
   "metadata": {},
   "outputs": [
    {
     "data": {
      "text/html": [
       "\n",
       "<style>\n",
       "    /* Turns off some styling */\n",
       "    progress {\n",
       "        /* gets rid of default border in Firefox and Opera. */\n",
       "        border: none;\n",
       "        /* Needs to be in here for Safari polyfill so background images work as expected. */\n",
       "        background-size: auto;\n",
       "    }\n",
       "    .progress-bar-interrupted, .progress-bar-interrupted::-webkit-progress-bar {\n",
       "        background: #F44336;\n",
       "    }\n",
       "</style>\n"
      ],
      "text/plain": [
       "<IPython.core.display.HTML object>"
      ]
     },
     "metadata": {},
     "output_type": "display_data"
    },
    {
     "data": {
      "text/html": [
       "\n",
       "    <div>\n",
       "      <progress value='0' class='progress-bar-interrupted' max='100' style='width:300px; height:20px; vertical-align: middle;'></progress>\n",
       "      Interrupted\n",
       "    </div>\n",
       "    "
      ],
      "text/plain": [
       "<IPython.core.display.HTML object>"
      ]
     },
     "metadata": {},
     "output_type": "display_data"
    }
   ],
   "source": [
    "tst = NBProgressBar(range(100))\n",
    "for i in range(50): \n",
    "    time.sleep(0.05)\n",
    "    tst.update(i)\n",
    "tst.on_interrupt()"
   ]
  },
  {
   "cell_type": "code",
   "execution_count": null,
   "metadata": {},
   "outputs": [],
   "source": [
    "#hide\n",
    "for i in NBProgressBar([]): pass"
   ]
  },
  {
   "cell_type": "code",
   "execution_count": null,
   "metadata": {},
   "outputs": [],
   "source": [
    "#export\n",
    "class NBMasterBar(MasterBar):\n",
    "    names = ['train', 'valid']\n",
    "    def __init__(self, gen, total=None, hide_graph=False, order=None, clean_on_interrupt=False, total_time=False):\n",
    "        super().__init__(gen, NBProgressBar, total)\n",
    "        if order is None: order = ['pb1', 'text', 'pb2']\n",
    "        self.hide_graph,self.order = hide_graph,order\n",
    "        self.report,self.clean_on_interrupt,self.total_time = [],clean_on_interrupt,total_time\n",
    "        self.inner_dict = {'pb1':self.main_bar, 'text':\"\"}\n",
    "        self.text,self.lines = \"\",[]\n",
    "        \n",
    "    def on_iter_begin(self):\n",
    "        self.html_code = '\\n'.join([html_progress_bar(0, self.main_bar.total, \"\"), \"\"])\n",
    "        display(HTML(html_progress_bar_styles))\n",
    "        self.out = display(HTML(self.html_code), display_id=True)\n",
    "\n",
    "    def on_interrupt(self):\n",
    "        if self.clean_on_interrupt: self.out.update(HTML(''))\n",
    "\n",
    "    def on_iter_end(self):\n",
    "        if hasattr(self, 'imgs_fig'):\n",
    "            plt.close()\n",
    "            self.imgs_out.update(self.imgs_fig)\n",
    "        if hasattr(self, 'graph_fig'):\n",
    "            plt.close()\n",
    "            self.graph_out.update(self.graph_fig)\n",
    "        if self.text.endswith('<p>'): self.text = self.text[:-3]\n",
    "        if self.total_time: \n",
    "            total_time = format_time(time.time() - self.main_bar.start_t)\n",
    "            self.text = f'Total time: {total_time} <p>' + self.text\n",
    "        if hasattr(self, 'out'): self.out.update(HTML(self.text))\n",
    "\n",
    "    def add_child(self, child):\n",
    "        self.child = child\n",
    "        self.inner_dict['pb2'] = self.child\n",
    "        #self.show()\n",
    "\n",
    "    def show(self):\n",
    "        self.inner_dict['text'] = self.text\n",
    "        to_show = [name for name in self.order if name in self.inner_dict.keys()]\n",
    "        self.html_code = '\\n'.join([getattr(self.inner_dict[n], 'progress', self.inner_dict[n]) for n in to_show])\n",
    "        self.out.update(HTML(self.html_code))\n",
    "\n",
    "    def write(self, line, table=False):\n",
    "        if not table: self.text += line + \"<p>\"\n",
    "        else:\n",
    "            self.lines.append(line)\n",
    "            self.text = text2html_table(self.lines)\n",
    "\n",
    "    def show_imgs(self, imgs, titles=None, cols=4, imgsize=4, figsize=None):\n",
    "        if self.hide_graph: return\n",
    "        rows = len(imgs)//cols if len(imgs)%cols == 0 else len(imgs)//cols + 1\n",
    "        plt.close()\n",
    "        if figsize is None: figsize = (imgsize*cols, imgsize*rows)\n",
    "        self.imgs_fig, imgs_axs = plt.subplots(rows, cols, figsize=figsize)\n",
    "        if titles is None: titles = [None] * len(imgs)\n",
    "        for img, ax, title in zip(imgs, imgs_axs.flatten(), titles): img.show(ax=ax, title=title)\n",
    "        for ax in imgs_axs.flatten()[len(imgs):]: ax.axis('off')\n",
    "        if not hasattr(self, 'imgs_out'): self.imgs_out = display(self.imgs_fig, display_id=True)\n",
    "        else: self.imgs_out.update(self.imgs_fig)\n",
    "\n",
    "    def update_graph(self, graphs, x_bounds=None, y_bounds=None, figsize=(6,4)):\n",
    "        if self.hide_graph: return\n",
    "        if not hasattr(self, 'graph_fig'):\n",
    "            self.graph_fig, self.graph_ax = plt.subplots(1, figsize=figsize)\n",
    "            self.graph_out = display(self.graph_ax.figure, display_id=True)\n",
    "        self.graph_ax.clear()\n",
    "        if len(self.names) < len(graphs): self.names += [''] * (len(graphs) - len(self.names))\n",
    "        for g,n in zip(graphs,self.names): self.graph_ax.plot(*g, label=n)\n",
    "        self.graph_ax.legend(loc='upper right')\n",
    "        if x_bounds is not None: self.graph_ax.set_xlim(*x_bounds)\n",
    "        if y_bounds is not None: self.graph_ax.set_ylim(*y_bounds)\n",
    "        self.graph_out.update(self.graph_ax.figure)"
   ]
  },
  {
   "cell_type": "code",
   "execution_count": null,
   "metadata": {},
   "outputs": [
    {
     "data": {
      "text/html": [
       "\n",
       "<style>\n",
       "    /* Turns off some styling */\n",
       "    progress {\n",
       "        /* gets rid of default border in Firefox and Opera. */\n",
       "        border: none;\n",
       "        /* Needs to be in here for Safari polyfill so background images work as expected. */\n",
       "        background-size: auto;\n",
       "    }\n",
       "    .progress-bar-interrupted, .progress-bar-interrupted::-webkit-progress-bar {\n",
       "        background: #F44336;\n",
       "    }\n",
       "</style>\n"
      ],
      "text/plain": [
       "<IPython.core.display.HTML object>"
      ]
     },
     "metadata": {},
     "output_type": "display_data"
    },
    {
     "data": {
      "text/html": [
       "Finished loop 0.<p>Finished loop 1.<p>Finished loop 2.<p>Finished loop 3.<p>Finished loop 4."
      ],
      "text/plain": [
       "<IPython.core.display.HTML object>"
      ]
     },
     "metadata": {},
     "output_type": "display_data"
    }
   ],
   "source": [
    "mb = NBMasterBar(range(5))\n",
    "for i in mb:\n",
    "    for j in NBProgressBar(range(10), parent=mb, comment=f'first bar stat'):\n",
    "        time.sleep(0.01)\n",
    "        #mb.child.comment = f'second bar stat'\n",
    "    mb.write(f'Finished loop {i}.')"
   ]
  },
  {
   "cell_type": "code",
   "execution_count": null,
   "metadata": {},
   "outputs": [
    {
     "data": {
      "text/html": [
       "\n",
       "<style>\n",
       "    /* Turns off some styling */\n",
       "    progress {\n",
       "        /* gets rid of default border in Firefox and Opera. */\n",
       "        border: none;\n",
       "        /* Needs to be in here for Safari polyfill so background images work as expected. */\n",
       "        background-size: auto;\n",
       "    }\n",
       "    .progress-bar-interrupted, .progress-bar-interrupted::-webkit-progress-bar {\n",
       "        background: #F44336;\n",
       "    }\n",
       "</style>\n"
      ],
      "text/plain": [
       "<IPython.core.display.HTML object>"
      ]
     },
     "metadata": {},
     "output_type": "display_data"
    },
    {
     "data": {
      "text/html": [
       "Finished loop 0.<p>Finished loop 1.<p>Finished loop 2.<p>Finished loop 3.<p>Finished loop 4."
      ],
      "text/plain": [
       "<IPython.core.display.HTML object>"
      ]
     },
     "metadata": {},
     "output_type": "display_data"
    }
   ],
   "source": [
    "mb = NBMasterBar(range(5))\n",
    "mb.update(0)  \n",
    "for i in range(5):\n",
    "    for j in NBProgressBar(range(10), parent=mb):\n",
    "        time.sleep(0.01)\n",
    "        #mb.child.comment = f'second bar stat'\n",
    "    mb.main_bar.comment = f'first bar stat'\n",
    "    mb.write(f'Finished loop {i}.')\n",
    "    mb.update(i+1)"
   ]
  },
  {
   "cell_type": "markdown",
   "metadata": {},
   "source": [
    "## Console progress bars"
   ]
  },
  {
   "cell_type": "code",
   "execution_count": null,
   "metadata": {},
   "outputs": [],
   "source": [
    "#export\n",
    "NO_BAR = False\n",
    "WRITER_FN = print\n",
    "FLUSH = True\n",
    "SAVE_PATH = None\n",
    "SAVE_APPEND = False\n",
    "MAX_COLS = 160"
   ]
  },
  {
   "cell_type": "code",
   "execution_count": null,
   "metadata": {},
   "outputs": [],
   "source": [
    "#export \n",
    "def printing():\n",
    "    return False if NO_BAR else (stdout.isatty() or IN_NOTEBOOK)"
   ]
  },
  {
   "cell_type": "code",
   "execution_count": null,
   "metadata": {},
   "outputs": [],
   "source": [
    "#export\n",
    "class ConsoleProgressBar(ProgressBar):\n",
    "    fill:str='█'\n",
    "    end:str='\\r'\n",
    "\n",
    "    def __init__(self, gen, total=None, display=True, leave=True, parent=None, master=None, txt_len=60):\n",
    "        self.cols,_ = shutil.get_terminal_size((100, 40))\n",
    "        if self.cols > MAX_COLS: self.cols=MAX_COLS\n",
    "        self.length = self.cols-txt_len\n",
    "        self.max_len,self.prefix = 0,''\n",
    "        #In case the filling char returns an encoding error\n",
    "        try: print(self.fill, end='\\r', flush=FLUSH)\n",
    "        except: self.fill = 'X'\n",
    "        super().__init__(gen, total, display, leave, parent, master)\n",
    "\n",
    "    def on_interrupt(self):\n",
    "        super().on_interrupt()\n",
    "        self.on_iter_end()\n",
    "\n",
    "    def on_iter_end(self):\n",
    "        if not self.leave and printing():\n",
    "            print(f'\\r{self.prefix}' + ' ' * (self.max_len - len(f'\\r{self.prefix}')), end='\\r', flush=FLUSH)\n",
    "        super().on_iter_end()\n",
    "\n",
    "    def on_update(self, val, text):\n",
    "        if self.display:\n",
    "            if self.length > self.cols-len(text)-len(self.prefix)-4:\n",
    "                self.length = self.cols-len(text)-len(self.prefix)-4\n",
    "            filled_len = int(self.length * val // self.total) if self.total else 0\n",
    "            bar = self.fill * filled_len + '-' * (self.length - filled_len)\n",
    "            to_write = f'\\r{self.prefix} |{bar}| {text}'\n",
    "            if val >= self.total: end = '\\r'\n",
    "            else: end = self.end\n",
    "            if len(to_write) > self.max_len: self.max_len=len(to_write)\n",
    "            if printing(): WRITER_FN(to_write, end=end, flush=FLUSH)"
   ]
  },
  {
   "cell_type": "code",
   "execution_count": null,
   "metadata": {},
   "outputs": [
    {
     "name": "stdout",
     "output_type": "stream",
     "text": [
      "█\r"
     ]
    }
   ],
   "source": [
    "tst = ConsoleProgressBar(range(100))\n",
    "for i in tst: time.sleep(0.05)"
   ]
  },
  {
   "cell_type": "code",
   "execution_count": null,
   "metadata": {},
   "outputs": [
    {
     "name": "stdout",
     "output_type": "stream",
     "text": [
      "█\r"
     ]
    }
   ],
   "source": [
    "tst = ConsoleProgressBar(range(100))\n",
    "for i in range(50): \n",
    "    time.sleep(0.05)\n",
    "    tst.update(i)\n",
    "tst.on_interrupt()"
   ]
  },
  {
   "cell_type": "code",
   "execution_count": null,
   "metadata": {},
   "outputs": [],
   "source": [
    "#export\n",
    "def print_and_maybe_save(line):\n",
    "    WRITER_FN(line)\n",
    "    if SAVE_PATH is not None:\n",
    "        attr = \"a\" if os.path.exists(SAVE_PATH) else \"w\"\n",
    "        with open(SAVE_PATH, attr) as f: f.write(line + '\\n')"
   ]
  },
  {
   "cell_type": "code",
   "execution_count": null,
   "metadata": {},
   "outputs": [],
   "source": [
    "#export\n",
    "class ConsoleMasterBar(MasterBar):\n",
    "    def __init__(self, gen, total=None, hide_graph=False, order=None, clean_on_interrupt=False, total_time=False):\n",
    "        super().__init__(gen, ConsoleProgressBar, total)\n",
    "        self.total_time = total_time\n",
    "\n",
    "    def add_child(self, child):\n",
    "        self.child = child\n",
    "        v = 0 if self.main_bar.last_v is None else self.main_bar.last_v\n",
    "        self.child.prefix = f'Epoch {v+1}/{self.main_bar.total} :'\n",
    "        self.child.display = True\n",
    "\n",
    "    def on_iter_begin(self):\n",
    "        super().on_iter_begin()\n",
    "        if SAVE_PATH is not None and os.path.exists(SAVE_PATH) and not SAVE_APPEND:\n",
    "            with open(SAVE_PATH, 'w') as f: f.write('')\n",
    "\n",
    "    def write(self, line, table=False):\n",
    "        if table:\n",
    "            text = ''\n",
    "            if not hasattr(self, 'names'):\n",
    "                self.names = [name + ' ' * (8-len(name)) if len(name) < 8 else name for name in line]\n",
    "                text = '  '.join(self.names)\n",
    "            else:\n",
    "                for (t,name) in zip(line,self.names): text += t + ' ' * (2 + len(name)-len(t))\n",
    "            print_and_maybe_save(text)\n",
    "        else: print_and_maybe_save(line)\n",
    "        if self.total_time:\n",
    "            total_time = format_time(time() - self.start_t)\n",
    "            print_and_maybe_save(f'Total time: {total_time}')\n",
    "\n",
    "    def show_imgs(*args, **kwargs): pass\n",
    "    def update_graph(*args, **kwargs): pass"
   ]
  },
  {
   "cell_type": "code",
   "execution_count": null,
   "metadata": {},
   "outputs": [
    {
     "name": "stdout",
     "output_type": "stream",
     "text": [
      "Finished loop 0.\n",
      "Finished loop 1.\n",
      "Finished loop 2.\n",
      "Finished loop 3.\n",
      "Finished loop 4.\n"
     ]
    }
   ],
   "source": [
    "mb = ConsoleMasterBar(range(5))\n",
    "for i in mb:\n",
    "    for j in ConsoleProgressBar(range(10), parent=mb):\n",
    "        time.sleep(0.01)\n",
    "        #mb.child.comment = f'second bar stat'\n",
    "    mb.main_bar.comment = f'first bar stat'\n",
    "    mb.write(f'Finished loop {i}.')"
   ]
  },
  {
   "cell_type": "code",
   "execution_count": null,
   "metadata": {},
   "outputs": [
    {
     "name": "stdout",
     "output_type": "stream",
     "text": [
      "Finished loop 0.\n",
      "Finished loop 1.\n",
      "Finished loop 2.\n",
      "Finished loop 3.\n",
      "Finished loop 4.\n"
     ]
    }
   ],
   "source": [
    "mb = ConsoleMasterBar(range(5))\n",
    "mb.update(0)  \n",
    "for i in range(5):\n",
    "    for j in ConsoleProgressBar(range(10), parent=mb):\n",
    "        time.sleep(0.01)\n",
    "        #mb.child.comment = f'second bar stat'\n",
    "    mb.main_bar.comment = f'first bar stat'\n",
    "    mb.write(f'Finished loop {i}.')\n",
    "    mb.update(i+1)\n",
    "    \n",
    "    # confirming a kwarg can be passed to ConsoleMasterBar instance\n",
    "    mb.update_graph([[1,2],[3,4]], figsize=(10,5,))\n",
    "    mb.show_imgs(figsize=(10,5,))"
   ]
  },
  {
   "cell_type": "code",
   "execution_count": null,
   "metadata": {},
   "outputs": [],
   "source": [
    "#export\n",
    "if IN_NOTEBOOK: master_bar, progress_bar = NBMasterBar, NBProgressBar\n",
    "else:           master_bar, progress_bar = ConsoleMasterBar, ConsoleProgressBar"
   ]
  },
  {
   "cell_type": "code",
   "execution_count": null,
   "metadata": {},
   "outputs": [],
   "source": [
    "#export\n",
    "_all_ = ['master_bar', 'progress_bar']"
   ]
  },
  {
   "cell_type": "code",
   "execution_count": null,
   "metadata": {},
   "outputs": [],
   "source": [
    "#export\n",
    "def force_console_behavior():\n",
    "    \"Return the console progress bars\"\n",
    "    return ConsoleMasterBar, ConsoleProgressBar"
   ]
  },
  {
   "cell_type": "code",
   "execution_count": null,
   "metadata": {},
   "outputs": [],
   "source": [
    "#export\n",
    "def workaround_empty_console_output():\n",
    "    \"Change console output behaviour to correctly show progress in consoles not recognizing \\r at the end of line\"\n",
    "    ConsoleProgressBar.end = ''"
   ]
  },
  {
   "cell_type": "markdown",
   "metadata": {},
   "source": [
    "## Export -"
   ]
  },
  {
   "cell_type": "code",
   "execution_count": null,
   "metadata": {},
   "outputs": [
    {
     "name": "stdout",
     "output_type": "stream",
     "text": [
      "Converted 00_core.ipynb.\n",
      "Converted 01_fastprogress.ipynb.\n"
     ]
    }
   ],
   "source": [
    "from nbdev.export import notebook2script\n",
    "notebook2script()"
   ]
  },
  {
   "cell_type": "code",
   "execution_count": null,
   "metadata": {},
   "outputs": [],
   "source": []
  }
 ],
 "metadata": {
  "jupytext": {
   "split_at_heading": true
  },
  "kernelspec": {
   "display_name": "fastprogress",
   "language": "python",
   "name": "fastprogress"
  }
 },
 "nbformat": 4,
 "nbformat_minor": 2
}
